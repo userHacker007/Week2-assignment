{
 "cells": [
  {
   "cell_type": "code",
   "execution_count": null,
   "id": "24f16e0e-4ecd-452a-be4e-3f700488a256",
   "metadata": {},
   "outputs": [],
   "source": [
    "#Q1. How do you comment code in Python? What are the different types of comments?\n",
    "\n",
    "\"\"\"Ans-We comment code in python with the help of # symbol.\n",
    "There two types of comments:-\n",
    "single line comments and multiline comments.\"\"\"\n",
    "\n",
    "# for eg:-Here while writing answer we have put question under # symbol and while writing answer we have put it in triple quote."
   ]
  },
  {
   "cell_type": "code",
   "execution_count": null,
   "id": "00eb0d5a-d338-4a85-90e7-aafccd05a53e",
   "metadata": {},
   "outputs": [
    {
     "data": {
      "text/plain": [
       "'\\nAns-In python variables are used to store data values.\\n\\nTo declare and assign values to variables in python,we simply use varible name followed by assignment operator.\\n\\nfor eg:-\\n\\nX=5\\nY=\"PWSKILLS\"\\n\\nHere in example X and Y are varibles, followed by assignment operator, 5 and \"PWSKILLS\" are their respective value in X and Y.\\n'"
      ]
     },
     "execution_count": 8,
     "metadata": {},
     "output_type": "execute_result"
    }
   ],
   "source": [
    "#Q2. What are variables in Python? How do you declare and assign values to variables?\n",
    "\"\"\"\n",
    "Ans-In python variables are used to store data values.\n",
    "\n",
    "To declare and assign values to variables in python,we simply use varible name followed by assignment operator.\n",
    "\n",
    "for eg:-\n",
    "\n",
    "X=5\n",
    "Y=\"PWSKILLS\"\n",
    "\n",
    "Here in example X and Y are varibles, followed by assignment operator, 5 and \"PWSKILLS\" are their respective value in X and Y.\n",
    "\"\"\"\n"
   ]
  },
  {
   "cell_type": "code",
   "execution_count": null,
   "id": "08371657-a673-4eed-b20c-481457970a6c",
   "metadata": {},
   "outputs": [],
   "source": [
    "#Q3. How do you convert one data type to another in Python?\n",
    "\n",
    "\"\"\"Ans-In python,we can convert one data type to another using type casting or conversions:\n",
    "    \n",
    "    for Eg:-Using type casting\n",
    "    x=5 is an integer\n",
    "    y=float(x), converts integer to float\n",
    "    z=str(x),converts integer to string\"\"\""
   ]
  },
  {
   "cell_type": "code",
   "execution_count": null,
   "id": "1f9237fb-2800-432d-9fab-41ec871a14b2",
   "metadata": {},
   "outputs": [],
   "source": [
    "#4. How do you write and execute a Python script from the command line?\n",
    "\n",
    "\"\"\"To write a Python script, create a .py file using a text editor. Save it. \n",
    "To execute, navigate to its directory in the command line and type \"python filename.py\".\"\"\"\n"
   ]
  },
  {
   "cell_type": "code",
   "execution_count": 17,
   "id": "895cdf85-cba1-4f9b-9f1c-3298bedebf8d",
   "metadata": {},
   "outputs": [],
   "source": [
    "#Q5. Given a list my_list = [1, 2, 3, 4, 5], write the code to slice the list and obtain the sub-list [2, 3]."
   ]
  },
  {
   "cell_type": "code",
   "execution_count": null,
   "id": "b89f6041-0f0c-40be-ae7d-aff5f5979c17",
   "metadata": {},
   "outputs": [],
   "source": [
    "my_list=[1,2,3,4,5]"
   ]
  },
  {
   "cell_type": "code",
   "execution_count": 22,
   "id": "c4f97013-87a4-4767-88d5-fdabe4ce5543",
   "metadata": {},
   "outputs": [
    {
     "data": {
      "text/plain": [
       "[2, 3]"
      ]
     },
     "execution_count": 22,
     "metadata": {},
     "output_type": "execute_result"
    }
   ],
   "source": [
    "my_list[1:3]"
   ]
  },
  {
   "cell_type": "code",
   "execution_count": 38,
   "id": "afaddf35-c674-4a22-8f6b-e55fb6950bae",
   "metadata": {},
   "outputs": [],
   "source": [
    "# Q6. What is a complex number in mathematics, and how is it represented in Python?\n",
    "\n",
    "# Ans: Any number represented in the form a+bJ is the complex number,where a is real part and b is imaginary part,for eg. as follows"
   ]
  },
  {
   "cell_type": "code",
   "execution_count": 34,
   "id": "1b427153-325d-4517-99c7-b58730eddc90",
   "metadata": {},
   "outputs": [],
   "source": [
    "a = 4+5j"
   ]
  },
  {
   "cell_type": "code",
   "execution_count": 35,
   "id": "de5ba4de-69ac-4dc2-9c95-1f53b761f110",
   "metadata": {},
   "outputs": [
    {
     "data": {
      "text/plain": [
       "complex"
      ]
     },
     "execution_count": 35,
     "metadata": {},
     "output_type": "execute_result"
    }
   ],
   "source": [
    "type(a)"
   ]
  },
  {
   "cell_type": "code",
   "execution_count": 36,
   "id": "5b05487d-3fc6-4c22-aa9d-c5e2f4537d00",
   "metadata": {},
   "outputs": [
    {
     "data": {
      "text/plain": [
       "4.0"
      ]
     },
     "execution_count": 36,
     "metadata": {},
     "output_type": "execute_result"
    }
   ],
   "source": [
    "a.real"
   ]
  },
  {
   "cell_type": "code",
   "execution_count": 37,
   "id": "25d5d4fc-9001-4db8-ae0e-7396dd9db8dc",
   "metadata": {},
   "outputs": [
    {
     "data": {
      "text/plain": [
       "5.0"
      ]
     },
     "execution_count": 37,
     "metadata": {},
     "output_type": "execute_result"
    }
   ],
   "source": [
    "a.imag"
   ]
  },
  {
   "cell_type": "code",
   "execution_count": 39,
   "id": "d2b06a4c-4650-4bf7-929e-2dd6c355df6a",
   "metadata": {},
   "outputs": [],
   "source": [
    "#Q7. What is the correct way to declare a variable named age and assign the value 25 to it?"
   ]
  },
  {
   "cell_type": "code",
   "execution_count": 40,
   "id": "b25e0995-c8f3-4c38-b2d5-d2c9240d2255",
   "metadata": {},
   "outputs": [],
   "source": [
    "age=25"
   ]
  },
  {
   "cell_type": "code",
   "execution_count": 41,
   "id": "e31b21d1-1413-4fd1-a287-fba3722f3389",
   "metadata": {},
   "outputs": [
    {
     "data": {
      "text/plain": [
       "25"
      ]
     },
     "execution_count": 41,
     "metadata": {},
     "output_type": "execute_result"
    }
   ],
   "source": [
    "age"
   ]
  },
  {
   "cell_type": "code",
   "execution_count": 42,
   "id": "7afd7c69-e4ee-45b9-b19a-bd7e35089a8b",
   "metadata": {},
   "outputs": [],
   "source": [
    "#Q8. Declare a variable named price and assign the value 9.99 to it. What data type does this variable belong to?"
   ]
  },
  {
   "cell_type": "code",
   "execution_count": 43,
   "id": "dd831233-b77b-4139-8871-2e3c1f4918af",
   "metadata": {},
   "outputs": [],
   "source": [
    "price=9.99"
   ]
  },
  {
   "cell_type": "code",
   "execution_count": 44,
   "id": "9b14c9b6-13b8-400a-97f1-173deaa26d0f",
   "metadata": {},
   "outputs": [
    {
     "data": {
      "text/plain": [
       "float"
      ]
     },
     "execution_count": 44,
     "metadata": {},
     "output_type": "execute_result"
    }
   ],
   "source": [
    "type(price)"
   ]
  },
  {
   "cell_type": "code",
   "execution_count": 45,
   "id": "2f7bee23-972d-42c7-9985-1d513ec99cfe",
   "metadata": {},
   "outputs": [],
   "source": [
    "#Q9. Create a variable named name and assign your full name to it as a string. How would you print the value of this variable?"
   ]
  },
  {
   "cell_type": "code",
   "execution_count": 46,
   "id": "305c8608-55c0-4d0d-b59f-85fe9fd81cf5",
   "metadata": {},
   "outputs": [],
   "source": [
    "name=\"OM PRAKASH CHOUDHARY\""
   ]
  },
  {
   "cell_type": "code",
   "execution_count": 49,
   "id": "e4258e53-c4be-48ef-9c7b-0c3fa8040660",
   "metadata": {},
   "outputs": [
    {
     "name": "stdout",
     "output_type": "stream",
     "text": [
      "OM PRAKASH CHOUDHARY\n"
     ]
    }
   ],
   "source": [
    "print(name)"
   ]
  },
  {
   "cell_type": "code",
   "execution_count": 50,
   "id": "a84c3ab9-8ef3-4e7d-a708-99d25e39d7ee",
   "metadata": {},
   "outputs": [],
   "source": [
    "#Q10. Given the string \"Hello, World!\", extract the substring \"World\"."
   ]
  },
  {
   "cell_type": "code",
   "execution_count": 51,
   "id": "c83a3495-2661-41ae-a7dd-9f53f11f236a",
   "metadata": {},
   "outputs": [],
   "source": [
    "k=\"Hello, World!\""
   ]
  },
  {
   "cell_type": "code",
   "execution_count": 54,
   "id": "cfcb9aa6-cb60-4e15-a3ea-42de97d5c26d",
   "metadata": {},
   "outputs": [
    {
     "data": {
      "text/plain": [
       "'World'"
      ]
     },
     "execution_count": 54,
     "metadata": {},
     "output_type": "execute_result"
    }
   ],
   "source": [
    "k[7:12]"
   ]
  },
  {
   "cell_type": "code",
   "execution_count": 58,
   "id": "ac906d77-c310-49cb-8566-264dbb9aee0b",
   "metadata": {},
   "outputs": [
    {
     "data": {
      "text/plain": [
       "'!'"
      ]
     },
     "execution_count": 58,
     "metadata": {},
     "output_type": "execute_result"
    }
   ],
   "source": [
    "k[12]"
   ]
  },
  {
   "cell_type": "code",
   "execution_count": 59,
   "id": "c0104190-e06c-472f-9c39-b845eb17fcfd",
   "metadata": {},
   "outputs": [],
   "source": [
    "#Q11. Create a variable named \"is_student\" and assign it a boolean value indicating whether you are currently a student or not."
   ]
  },
  {
   "cell_type": "code",
   "execution_count": 67,
   "id": "a83a7f6f-9a0e-45ab-a2b9-179ceb73528f",
   "metadata": {},
   "outputs": [],
   "source": [
    "is_student=True # If you are currently a student, set it to True; otherwise, set it to False\n"
   ]
  },
  {
   "cell_type": "code",
   "execution_count": 68,
   "id": "02d5bc3d-b946-4743-81d5-2d27dccc7596",
   "metadata": {},
   "outputs": [
    {
     "data": {
      "text/plain": [
       "True"
      ]
     },
     "execution_count": 68,
     "metadata": {},
     "output_type": "execute_result"
    }
   ],
   "source": [
    "is_student"
   ]
  },
  {
   "cell_type": "code",
   "execution_count": null,
   "id": "8f089081-17cd-4e0e-bbef-d025b36b3585",
   "metadata": {},
   "outputs": [],
   "source": [
    "\n"
   ]
  }
 ],
 "metadata": {
  "kernelspec": {
   "display_name": "Python 3 (ipykernel)",
   "language": "python",
   "name": "python3"
  },
  "language_info": {
   "codemirror_mode": {
    "name": "ipython",
    "version": 3
   },
   "file_extension": ".py",
   "mimetype": "text/x-python",
   "name": "python",
   "nbconvert_exporter": "python",
   "pygments_lexer": "ipython3",
   "version": "3.10.8"
  }
 },
 "nbformat": 4,
 "nbformat_minor": 5
}
